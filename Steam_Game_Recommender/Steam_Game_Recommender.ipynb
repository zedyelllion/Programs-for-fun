{
 "cells": [
  {
   "cell_type": "code",
   "execution_count": 68,
   "metadata": {},
   "outputs": [],
   "source": [
    "import pandas as pd\n",
    "import numpy as np\n",
    "import matplotlib as mp\n",
    "import sklearn as sk\n",
    "import tensorflow as tf\n",
    "from tensorflow import keras\n"
   ]
  },
  {
   "cell_type": "code",
   "execution_count": 69,
   "metadata": {},
   "outputs": [],
   "source": [
    "df = pd.read_csv('recommendations.csv', usecols = ['app_id', 'is_recommended','hours','user_id'])"
   ]
  },
  {
   "cell_type": "code",
   "execution_count": 70,
   "metadata": {},
   "outputs": [
    {
     "data": {
      "text/plain": [
       "app_id            0\n",
       "is_recommended    0\n",
       "hours             0\n",
       "user_id           0\n",
       "dtype: int64"
      ]
     },
     "execution_count": 70,
     "metadata": {},
     "output_type": "execute_result"
    }
   ],
   "source": [
    "df.isnull().sum()"
   ]
  },
  {
   "cell_type": "code",
   "execution_count": 71,
   "metadata": {},
   "outputs": [],
   "source": [
    "df = df.drop_duplicates()"
   ]
  },
  {
   "cell_type": "code",
   "execution_count": 72,
   "metadata": {},
   "outputs": [
    {
     "name": "stdout",
     "output_type": "stream",
     "text": [
      "Number of unique games : 37610\n",
      "Number of unique users : 13781059\n"
     ]
    }
   ],
   "source": [
    "unique_game_count = df['app_id'].nunique()\n",
    "unique_user_count = df['user_id'].nunique()\n",
    "print(f\"Number of unique games : {unique_game_count}\")\n",
    "print(f\"Number of unique users : {unique_user_count}\")\n"
   ]
  },
  {
   "cell_type": "markdown",
   "metadata": {},
   "source": [
    "There seems to be to many games and users, since this is about building a recommender system. I want to manually select some popular games. The rule of thumb for popularity is set to be at least recommended by 1000 users. Next cell implemented this in code. "
   ]
  },
  {
   "cell_type": "code",
   "execution_count": 73,
   "metadata": {},
   "outputs": [
    {
     "data": {
      "text/plain": [
       "<bound method NDFrame.head of            app_id  is_recommended  hours   user_id\n",
       "0          975370            True   36.3     51580\n",
       "1          304390           False   11.5      2586\n",
       "2         1085660            True  336.5    253880\n",
       "3          703080            True   27.4    259432\n",
       "4          526870            True    7.9     23869\n",
       "...           ...             ...    ...       ...\n",
       "41154789   633230            True   41.0   1606890\n",
       "41154790   758870           False    8.0   1786254\n",
       "41154791   696170           False    2.0   6370324\n",
       "41154792   696170            True    4.0   1044289\n",
       "41154793  1089980            True   14.0  13971935\n",
       "\n",
       "[37103573 rows x 4 columns]>"
      ]
     },
     "execution_count": 73,
     "metadata": {},
     "output_type": "execute_result"
    }
   ],
   "source": [
    "import pandas as pd\n",
    "\n",
    "# Assuming your DataFrame is named df\n",
    "\n",
    "# Filter the dataset to only include rows where 'is_recommended' is True\n",
    "recommended_df = df[df['is_recommended'] == True]\n",
    "\n",
    "# Group by 'app_id' and count the number of times 'is_recommended' is True\n",
    "app_recommend_count = recommended_df.groupby('app_id').size()\n",
    "\n",
    "# Filter to get only those 'app_id' with at least 1000 recommendations\n",
    "apps_with_min_recommend = app_recommend_count[app_recommend_count >= 1000].index\n",
    "\n",
    "# Filter the original DataFrame to include only the selected 'app_id'\n",
    "tailored_df = df[df['app_id'].isin(apps_with_min_recommend)]\n",
    "\n",
    "# Display the tailored DataFrame\n",
    "tailored_df.head\n"
   ]
  },
  {
   "cell_type": "code",
   "execution_count": 74,
   "metadata": {},
   "outputs": [
    {
     "name": "stdout",
     "output_type": "stream",
     "text": [
      "Number of unique games : 3262\n"
     ]
    }
   ],
   "source": [
    "unique_game_count = tailored_df['app_id'].nunique()\n",
    "print(f\"Number of unique games : {unique_game_count}\")"
   ]
  },
  {
   "cell_type": "markdown",
   "metadata": {},
   "source": [
    "There's also too many users, I will select the top 100000 active users who like to give reviews to train my model."
   ]
  },
  {
   "cell_type": "code",
   "execution_count": 75,
   "metadata": {},
   "outputs": [
    {
     "data": {
      "text/html": [
       "<div>\n",
       "<style scoped>\n",
       "    .dataframe tbody tr th:only-of-type {\n",
       "        vertical-align: middle;\n",
       "    }\n",
       "\n",
       "    .dataframe tbody tr th {\n",
       "        vertical-align: top;\n",
       "    }\n",
       "\n",
       "    .dataframe thead th {\n",
       "        text-align: right;\n",
       "    }\n",
       "</style>\n",
       "<table border=\"1\" class=\"dataframe\">\n",
       "  <thead>\n",
       "    <tr style=\"text-align: right;\">\n",
       "      <th></th>\n",
       "      <th>app_id</th>\n",
       "      <th>is_recommended</th>\n",
       "      <th>hours</th>\n",
       "      <th>user_id</th>\n",
       "    </tr>\n",
       "  </thead>\n",
       "  <tbody>\n",
       "    <tr>\n",
       "      <th>22</th>\n",
       "      <td>534380</td>\n",
       "      <td>True</td>\n",
       "      <td>40.6</td>\n",
       "      <td>22793</td>\n",
       "    </tr>\n",
       "    <tr>\n",
       "      <th>32</th>\n",
       "      <td>438100</td>\n",
       "      <td>True</td>\n",
       "      <td>8.1</td>\n",
       "      <td>912612</td>\n",
       "    </tr>\n",
       "    <tr>\n",
       "      <th>58</th>\n",
       "      <td>602960</td>\n",
       "      <td>True</td>\n",
       "      <td>41.9</td>\n",
       "      <td>737481</td>\n",
       "    </tr>\n",
       "    <tr>\n",
       "      <th>130</th>\n",
       "      <td>105600</td>\n",
       "      <td>True</td>\n",
       "      <td>528.3</td>\n",
       "      <td>4470638</td>\n",
       "    </tr>\n",
       "    <tr>\n",
       "      <th>138</th>\n",
       "      <td>570940</td>\n",
       "      <td>False</td>\n",
       "      <td>73.3</td>\n",
       "      <td>5136277</td>\n",
       "    </tr>\n",
       "  </tbody>\n",
       "</table>\n",
       "</div>"
      ],
      "text/plain": [
       "     app_id  is_recommended  hours  user_id\n",
       "22   534380            True   40.6    22793\n",
       "32   438100            True    8.1   912612\n",
       "58   602960            True   41.9   737481\n",
       "130  105600            True  528.3  4470638\n",
       "138  570940           False   73.3  5136277"
      ]
     },
     "execution_count": 75,
     "metadata": {},
     "output_type": "execute_result"
    }
   ],
   "source": [
    "# Count the number of occurrences of each user_id\n",
    "user_review_counts = tailored_df['user_id'].value_counts()\n",
    "\n",
    "# Get the top 100,000 most active users\n",
    "top_users = user_review_counts.head(100000).index\n",
    "\n",
    "# Filter the original DataFrame to include only the top 100,000 active users\n",
    "df_top_users = tailored_df[tailored_df['user_id'].isin(top_users)]\n",
    "\n",
    "# Display the filtered DataFrame\n",
    "df_top_users.head()\n"
   ]
  },
  {
   "cell_type": "code",
   "execution_count": 76,
   "metadata": {},
   "outputs": [
    {
     "name": "stdout",
     "output_type": "stream",
     "text": [
      "Number of unique games : 3262\n",
      "Number of unique users : 100000\n"
     ]
    }
   ],
   "source": [
    "unique_game_count = df_top_users['app_id'].nunique()\n",
    "unique_user_count = df_top_users['user_id'].nunique()\n",
    "print(f\"Number of unique games : {unique_game_count}\")\n",
    "print(f\"Number of unique users : {unique_user_count}\")"
   ]
  },
  {
   "cell_type": "markdown",
   "metadata": {},
   "source": [
    "'is_recommended' column provides a basic guideline for whether a user like a game or not. But it's not suffice to describe how much she likes it. Thus, we analyze the 'hours' column. In short, the longer a user spent in game, the more convincible for her review, and the more she likes the game. "
   ]
  },
  {
   "cell_type": "code",
   "execution_count": 77,
   "metadata": {},
   "outputs": [
    {
     "name": "stderr",
     "output_type": "stream",
     "text": [
      "/var/folders/0x/8p42fct94xg0v77sv5bj7j8r0000gn/T/ipykernel_838/1729956827.py:19: SettingWithCopyWarning: \n",
      "A value is trying to be set on a copy of a slice from a DataFrame.\n",
      "Try using .loc[row_indexer,col_indexer] = value instead\n",
      "\n",
      "See the caveats in the documentation: https://pandas.pydata.org/pandas-docs/stable/user_guide/indexing.html#returning-a-view-versus-a-copy\n",
      "  df_top_users['rating'] = df_top_users.apply(lambda row: calculate_rating(row['is_recommended'], row['hours']), axis=1)\n"
     ]
    },
    {
     "data": {
      "text/html": [
       "<div>\n",
       "<style scoped>\n",
       "    .dataframe tbody tr th:only-of-type {\n",
       "        vertical-align: middle;\n",
       "    }\n",
       "\n",
       "    .dataframe tbody tr th {\n",
       "        vertical-align: top;\n",
       "    }\n",
       "\n",
       "    .dataframe thead th {\n",
       "        text-align: right;\n",
       "    }\n",
       "</style>\n",
       "<table border=\"1\" class=\"dataframe\">\n",
       "  <thead>\n",
       "    <tr style=\"text-align: right;\">\n",
       "      <th></th>\n",
       "      <th>app_id</th>\n",
       "      <th>is_recommended</th>\n",
       "      <th>hours</th>\n",
       "      <th>user_id</th>\n",
       "      <th>rating</th>\n",
       "    </tr>\n",
       "  </thead>\n",
       "  <tbody>\n",
       "    <tr>\n",
       "      <th>22</th>\n",
       "      <td>534380</td>\n",
       "      <td>True</td>\n",
       "      <td>40.6</td>\n",
       "      <td>22793</td>\n",
       "      <td>7.0</td>\n",
       "    </tr>\n",
       "    <tr>\n",
       "      <th>32</th>\n",
       "      <td>438100</td>\n",
       "      <td>True</td>\n",
       "      <td>8.1</td>\n",
       "      <td>912612</td>\n",
       "      <td>5.4</td>\n",
       "    </tr>\n",
       "    <tr>\n",
       "      <th>58</th>\n",
       "      <td>602960</td>\n",
       "      <td>True</td>\n",
       "      <td>41.9</td>\n",
       "      <td>737481</td>\n",
       "      <td>7.1</td>\n",
       "    </tr>\n",
       "    <tr>\n",
       "      <th>130</th>\n",
       "      <td>105600</td>\n",
       "      <td>True</td>\n",
       "      <td>528.3</td>\n",
       "      <td>4470638</td>\n",
       "      <td>10.0</td>\n",
       "    </tr>\n",
       "    <tr>\n",
       "      <th>138</th>\n",
       "      <td>570940</td>\n",
       "      <td>False</td>\n",
       "      <td>73.3</td>\n",
       "      <td>5136277</td>\n",
       "      <td>1.3</td>\n",
       "    </tr>\n",
       "  </tbody>\n",
       "</table>\n",
       "</div>"
      ],
      "text/plain": [
       "     app_id  is_recommended  hours  user_id  rating\n",
       "22   534380            True   40.6    22793     7.0\n",
       "32   438100            True    8.1   912612     5.4\n",
       "58   602960            True   41.9   737481     7.1\n",
       "130  105600            True  528.3  4470638    10.0\n",
       "138  570940           False   73.3  5136277     1.3"
      ]
     },
     "execution_count": 77,
     "metadata": {},
     "output_type": "execute_result"
    }
   ],
   "source": [
    "import pandas as pd\n",
    "\n",
    "# Define the function that takes 'is_recommended' and 'hours' and returns a 'rating'\n",
    "def calculate_rating(is_recommended, hours):\n",
    "    # The hours played an user spent in an hour affects user's 'qualification' to judge the game, the longer he/she played, more convincible he/she recommends the game or not.\n",
    "    if is_recommended == True:\n",
    "        if hours >= 100:\n",
    "            rating = 10.0 # User really love the game, so 10.0\n",
    "        else:\n",
    "            rating = 5 + hours/20\n",
    "            rating = round(rating,1) # rounded to the nearest 0.1\n",
    "    else:\n",
    "        rating = 5 - hours/20\n",
    "        rating = max(rating,0)\n",
    "        rating = round(rating,1)  # If the user spends long time in a game but still does not recommended it, then he/she must really not like the game. \n",
    "    return rating\n",
    "\n",
    "# Apply the function to each row and create a new column 'rating'\n",
    "df_top_users['rating'] = df_top_users.apply(lambda row: calculate_rating(row['is_recommended'], row['hours']), axis=1)\n",
    "\n",
    "# Display the DataFrame to verify the new 'rating' column\n",
    "df_top_users.head()\n"
   ]
  },
  {
   "cell_type": "code",
   "execution_count": 78,
   "metadata": {},
   "outputs": [
    {
     "data": {
      "text/html": [
       "<div>\n",
       "<style scoped>\n",
       "    .dataframe tbody tr th:only-of-type {\n",
       "        vertical-align: middle;\n",
       "    }\n",
       "\n",
       "    .dataframe tbody tr th {\n",
       "        vertical-align: top;\n",
       "    }\n",
       "\n",
       "    .dataframe thead th {\n",
       "        text-align: right;\n",
       "    }\n",
       "</style>\n",
       "<table border=\"1\" class=\"dataframe\">\n",
       "  <thead>\n",
       "    <tr style=\"text-align: right;\">\n",
       "      <th></th>\n",
       "      <th>app_id</th>\n",
       "      <th>user_id</th>\n",
       "      <th>rating</th>\n",
       "    </tr>\n",
       "  </thead>\n",
       "  <tbody>\n",
       "    <tr>\n",
       "      <th>22</th>\n",
       "      <td>534380</td>\n",
       "      <td>22793</td>\n",
       "      <td>7.0</td>\n",
       "    </tr>\n",
       "    <tr>\n",
       "      <th>32</th>\n",
       "      <td>438100</td>\n",
       "      <td>912612</td>\n",
       "      <td>5.4</td>\n",
       "    </tr>\n",
       "    <tr>\n",
       "      <th>58</th>\n",
       "      <td>602960</td>\n",
       "      <td>737481</td>\n",
       "      <td>7.1</td>\n",
       "    </tr>\n",
       "    <tr>\n",
       "      <th>130</th>\n",
       "      <td>105600</td>\n",
       "      <td>4470638</td>\n",
       "      <td>10.0</td>\n",
       "    </tr>\n",
       "    <tr>\n",
       "      <th>138</th>\n",
       "      <td>570940</td>\n",
       "      <td>5136277</td>\n",
       "      <td>1.3</td>\n",
       "    </tr>\n",
       "  </tbody>\n",
       "</table>\n",
       "</div>"
      ],
      "text/plain": [
       "     app_id  user_id  rating\n",
       "22   534380    22793     7.0\n",
       "32   438100   912612     5.4\n",
       "58   602960   737481     7.1\n",
       "130  105600  4470638    10.0\n",
       "138  570940  5136277     1.3"
      ]
     },
     "execution_count": 78,
     "metadata": {},
     "output_type": "execute_result"
    }
   ],
   "source": [
    "rating_df = df_top_users.drop(columns=['is_recommended','hours'])\n",
    "rating_df.head()"
   ]
  },
  {
   "cell_type": "code",
   "execution_count": 79,
   "metadata": {},
   "outputs": [
    {
     "data": {
      "text/plain": [
       "(100000, 3262)"
      ]
     },
     "execution_count": 79,
     "metadata": {},
     "output_type": "execute_result"
    }
   ],
   "source": [
    "# Drop duplicate entries, keeping the first occurrence\n",
    "df_unique = rating_df.drop_duplicates(subset=['user_id', 'app_id'])\n",
    "\n",
    "# Pivot the unique DataFrame\n",
    "pivot_df = df_unique.pivot(index='user_id', columns='app_id', values='rating')\n",
    "\n",
    "# Display the reshaped DataFrame\n",
    "pivot_df.shape\n"
   ]
  },
  {
   "cell_type": "markdown",
   "metadata": {},
   "source": [
    "Re-shaping the dataset."
   ]
  },
  {
   "cell_type": "code",
   "execution_count": 80,
   "metadata": {},
   "outputs": [
    {
     "data": {
      "text/html": [
       "<div>\n",
       "<style scoped>\n",
       "    .dataframe tbody tr th:only-of-type {\n",
       "        vertical-align: middle;\n",
       "    }\n",
       "\n",
       "    .dataframe tbody tr th {\n",
       "        vertical-align: top;\n",
       "    }\n",
       "\n",
       "    .dataframe thead th {\n",
       "        text-align: right;\n",
       "    }\n",
       "</style>\n",
       "<table border=\"1\" class=\"dataframe\">\n",
       "  <thead>\n",
       "    <tr style=\"text-align: right;\">\n",
       "      <th>app_id</th>\n",
       "      <th>10</th>\n",
       "      <th>20</th>\n",
       "      <th>30</th>\n",
       "      <th>40</th>\n",
       "      <th>50</th>\n",
       "      <th>60</th>\n",
       "      <th>70</th>\n",
       "      <th>80</th>\n",
       "      <th>130</th>\n",
       "      <th>220</th>\n",
       "      <th>...</th>\n",
       "      <th>2059790</th>\n",
       "      <th>2060130</th>\n",
       "      <th>2064650</th>\n",
       "      <th>2066020</th>\n",
       "      <th>2067920</th>\n",
       "      <th>2073470</th>\n",
       "      <th>2087030</th>\n",
       "      <th>2088250</th>\n",
       "      <th>2088570</th>\n",
       "      <th>2208920</th>\n",
       "    </tr>\n",
       "    <tr>\n",
       "      <th>user_id</th>\n",
       "      <th></th>\n",
       "      <th></th>\n",
       "      <th></th>\n",
       "      <th></th>\n",
       "      <th></th>\n",
       "      <th></th>\n",
       "      <th></th>\n",
       "      <th></th>\n",
       "      <th></th>\n",
       "      <th></th>\n",
       "      <th></th>\n",
       "      <th></th>\n",
       "      <th></th>\n",
       "      <th></th>\n",
       "      <th></th>\n",
       "      <th></th>\n",
       "      <th></th>\n",
       "      <th></th>\n",
       "      <th></th>\n",
       "      <th></th>\n",
       "      <th></th>\n",
       "    </tr>\n",
       "  </thead>\n",
       "  <tbody>\n",
       "    <tr>\n",
       "      <th>257</th>\n",
       "      <td>NaN</td>\n",
       "      <td>NaN</td>\n",
       "      <td>NaN</td>\n",
       "      <td>NaN</td>\n",
       "      <td>NaN</td>\n",
       "      <td>NaN</td>\n",
       "      <td>NaN</td>\n",
       "      <td>NaN</td>\n",
       "      <td>NaN</td>\n",
       "      <td>NaN</td>\n",
       "      <td>...</td>\n",
       "      <td>NaN</td>\n",
       "      <td>NaN</td>\n",
       "      <td>NaN</td>\n",
       "      <td>NaN</td>\n",
       "      <td>NaN</td>\n",
       "      <td>NaN</td>\n",
       "      <td>NaN</td>\n",
       "      <td>NaN</td>\n",
       "      <td>NaN</td>\n",
       "      <td>NaN</td>\n",
       "    </tr>\n",
       "    <tr>\n",
       "      <th>519</th>\n",
       "      <td>NaN</td>\n",
       "      <td>NaN</td>\n",
       "      <td>NaN</td>\n",
       "      <td>NaN</td>\n",
       "      <td>NaN</td>\n",
       "      <td>NaN</td>\n",
       "      <td>NaN</td>\n",
       "      <td>NaN</td>\n",
       "      <td>NaN</td>\n",
       "      <td>NaN</td>\n",
       "      <td>...</td>\n",
       "      <td>NaN</td>\n",
       "      <td>NaN</td>\n",
       "      <td>NaN</td>\n",
       "      <td>NaN</td>\n",
       "      <td>NaN</td>\n",
       "      <td>NaN</td>\n",
       "      <td>NaN</td>\n",
       "      <td>NaN</td>\n",
       "      <td>NaN</td>\n",
       "      <td>NaN</td>\n",
       "    </tr>\n",
       "    <tr>\n",
       "      <th>814</th>\n",
       "      <td>NaN</td>\n",
       "      <td>NaN</td>\n",
       "      <td>NaN</td>\n",
       "      <td>NaN</td>\n",
       "      <td>NaN</td>\n",
       "      <td>NaN</td>\n",
       "      <td>NaN</td>\n",
       "      <td>NaN</td>\n",
       "      <td>NaN</td>\n",
       "      <td>NaN</td>\n",
       "      <td>...</td>\n",
       "      <td>NaN</td>\n",
       "      <td>NaN</td>\n",
       "      <td>NaN</td>\n",
       "      <td>NaN</td>\n",
       "      <td>NaN</td>\n",
       "      <td>NaN</td>\n",
       "      <td>NaN</td>\n",
       "      <td>NaN</td>\n",
       "      <td>NaN</td>\n",
       "      <td>NaN</td>\n",
       "    </tr>\n",
       "    <tr>\n",
       "      <th>1072</th>\n",
       "      <td>NaN</td>\n",
       "      <td>NaN</td>\n",
       "      <td>NaN</td>\n",
       "      <td>NaN</td>\n",
       "      <td>NaN</td>\n",
       "      <td>NaN</td>\n",
       "      <td>NaN</td>\n",
       "      <td>NaN</td>\n",
       "      <td>NaN</td>\n",
       "      <td>5.1</td>\n",
       "      <td>...</td>\n",
       "      <td>NaN</td>\n",
       "      <td>NaN</td>\n",
       "      <td>NaN</td>\n",
       "      <td>NaN</td>\n",
       "      <td>NaN</td>\n",
       "      <td>NaN</td>\n",
       "      <td>NaN</td>\n",
       "      <td>NaN</td>\n",
       "      <td>NaN</td>\n",
       "      <td>NaN</td>\n",
       "    </tr>\n",
       "    <tr>\n",
       "      <th>1209</th>\n",
       "      <td>NaN</td>\n",
       "      <td>NaN</td>\n",
       "      <td>NaN</td>\n",
       "      <td>NaN</td>\n",
       "      <td>NaN</td>\n",
       "      <td>NaN</td>\n",
       "      <td>NaN</td>\n",
       "      <td>NaN</td>\n",
       "      <td>NaN</td>\n",
       "      <td>NaN</td>\n",
       "      <td>...</td>\n",
       "      <td>NaN</td>\n",
       "      <td>NaN</td>\n",
       "      <td>NaN</td>\n",
       "      <td>NaN</td>\n",
       "      <td>NaN</td>\n",
       "      <td>NaN</td>\n",
       "      <td>NaN</td>\n",
       "      <td>NaN</td>\n",
       "      <td>NaN</td>\n",
       "      <td>NaN</td>\n",
       "    </tr>\n",
       "  </tbody>\n",
       "</table>\n",
       "<p>5 rows × 3262 columns</p>\n",
       "</div>"
      ],
      "text/plain": [
       "app_id   10       20       30       40       50       60       70       \\\n",
       "user_id                                                                  \n",
       "257          NaN      NaN      NaN      NaN      NaN      NaN      NaN   \n",
       "519          NaN      NaN      NaN      NaN      NaN      NaN      NaN   \n",
       "814          NaN      NaN      NaN      NaN      NaN      NaN      NaN   \n",
       "1072         NaN      NaN      NaN      NaN      NaN      NaN      NaN   \n",
       "1209         NaN      NaN      NaN      NaN      NaN      NaN      NaN   \n",
       "\n",
       "app_id   80       130      220      ...  2059790  2060130  2064650  2066020  \\\n",
       "user_id                             ...                                       \n",
       "257          NaN      NaN      NaN  ...      NaN      NaN      NaN      NaN   \n",
       "519          NaN      NaN      NaN  ...      NaN      NaN      NaN      NaN   \n",
       "814          NaN      NaN      NaN  ...      NaN      NaN      NaN      NaN   \n",
       "1072         NaN      NaN      5.1  ...      NaN      NaN      NaN      NaN   \n",
       "1209         NaN      NaN      NaN  ...      NaN      NaN      NaN      NaN   \n",
       "\n",
       "app_id   2067920  2073470  2087030  2088250  2088570  2208920  \n",
       "user_id                                                        \n",
       "257          NaN      NaN      NaN      NaN      NaN      NaN  \n",
       "519          NaN      NaN      NaN      NaN      NaN      NaN  \n",
       "814          NaN      NaN      NaN      NaN      NaN      NaN  \n",
       "1072         NaN      NaN      NaN      NaN      NaN      NaN  \n",
       "1209         NaN      NaN      NaN      NaN      NaN      NaN  \n",
       "\n",
       "[5 rows x 3262 columns]"
      ]
     },
     "execution_count": 80,
     "metadata": {},
     "output_type": "execute_result"
    }
   ],
   "source": [
    "pivot_df.head()"
   ]
  },
  {
   "cell_type": "markdown",
   "metadata": {},
   "source": [
    "Re-index the dataset to make it looks good to read."
   ]
  },
  {
   "cell_type": "code",
   "execution_count": 81,
   "metadata": {},
   "outputs": [
    {
     "data": {
      "text/html": [
       "<div>\n",
       "<style scoped>\n",
       "    .dataframe tbody tr th:only-of-type {\n",
       "        vertical-align: middle;\n",
       "    }\n",
       "\n",
       "    .dataframe tbody tr th {\n",
       "        vertical-align: top;\n",
       "    }\n",
       "\n",
       "    .dataframe thead th {\n",
       "        text-align: right;\n",
       "    }\n",
       "</style>\n",
       "<table border=\"1\" class=\"dataframe\">\n",
       "  <thead>\n",
       "    <tr style=\"text-align: right;\">\n",
       "      <th>app_id</th>\n",
       "      <th>1</th>\n",
       "      <th>2</th>\n",
       "      <th>3</th>\n",
       "      <th>4</th>\n",
       "      <th>5</th>\n",
       "      <th>6</th>\n",
       "      <th>7</th>\n",
       "      <th>8</th>\n",
       "      <th>9</th>\n",
       "      <th>10</th>\n",
       "      <th>...</th>\n",
       "      <th>3253</th>\n",
       "      <th>3254</th>\n",
       "      <th>3255</th>\n",
       "      <th>3256</th>\n",
       "      <th>3257</th>\n",
       "      <th>3258</th>\n",
       "      <th>3259</th>\n",
       "      <th>3260</th>\n",
       "      <th>3261</th>\n",
       "      <th>3262</th>\n",
       "    </tr>\n",
       "    <tr>\n",
       "      <th>user_id</th>\n",
       "      <th></th>\n",
       "      <th></th>\n",
       "      <th></th>\n",
       "      <th></th>\n",
       "      <th></th>\n",
       "      <th></th>\n",
       "      <th></th>\n",
       "      <th></th>\n",
       "      <th></th>\n",
       "      <th></th>\n",
       "      <th></th>\n",
       "      <th></th>\n",
       "      <th></th>\n",
       "      <th></th>\n",
       "      <th></th>\n",
       "      <th></th>\n",
       "      <th></th>\n",
       "      <th></th>\n",
       "      <th></th>\n",
       "      <th></th>\n",
       "      <th></th>\n",
       "    </tr>\n",
       "  </thead>\n",
       "  <tbody>\n",
       "    <tr>\n",
       "      <th>1</th>\n",
       "      <td>NaN</td>\n",
       "      <td>NaN</td>\n",
       "      <td>NaN</td>\n",
       "      <td>NaN</td>\n",
       "      <td>NaN</td>\n",
       "      <td>NaN</td>\n",
       "      <td>NaN</td>\n",
       "      <td>NaN</td>\n",
       "      <td>NaN</td>\n",
       "      <td>NaN</td>\n",
       "      <td>...</td>\n",
       "      <td>NaN</td>\n",
       "      <td>NaN</td>\n",
       "      <td>NaN</td>\n",
       "      <td>NaN</td>\n",
       "      <td>NaN</td>\n",
       "      <td>NaN</td>\n",
       "      <td>NaN</td>\n",
       "      <td>NaN</td>\n",
       "      <td>NaN</td>\n",
       "      <td>NaN</td>\n",
       "    </tr>\n",
       "    <tr>\n",
       "      <th>2</th>\n",
       "      <td>NaN</td>\n",
       "      <td>NaN</td>\n",
       "      <td>NaN</td>\n",
       "      <td>NaN</td>\n",
       "      <td>NaN</td>\n",
       "      <td>NaN</td>\n",
       "      <td>NaN</td>\n",
       "      <td>NaN</td>\n",
       "      <td>NaN</td>\n",
       "      <td>NaN</td>\n",
       "      <td>...</td>\n",
       "      <td>NaN</td>\n",
       "      <td>NaN</td>\n",
       "      <td>NaN</td>\n",
       "      <td>NaN</td>\n",
       "      <td>NaN</td>\n",
       "      <td>NaN</td>\n",
       "      <td>NaN</td>\n",
       "      <td>NaN</td>\n",
       "      <td>NaN</td>\n",
       "      <td>NaN</td>\n",
       "    </tr>\n",
       "    <tr>\n",
       "      <th>3</th>\n",
       "      <td>NaN</td>\n",
       "      <td>NaN</td>\n",
       "      <td>NaN</td>\n",
       "      <td>NaN</td>\n",
       "      <td>NaN</td>\n",
       "      <td>NaN</td>\n",
       "      <td>NaN</td>\n",
       "      <td>NaN</td>\n",
       "      <td>NaN</td>\n",
       "      <td>NaN</td>\n",
       "      <td>...</td>\n",
       "      <td>NaN</td>\n",
       "      <td>NaN</td>\n",
       "      <td>NaN</td>\n",
       "      <td>NaN</td>\n",
       "      <td>NaN</td>\n",
       "      <td>NaN</td>\n",
       "      <td>NaN</td>\n",
       "      <td>NaN</td>\n",
       "      <td>NaN</td>\n",
       "      <td>NaN</td>\n",
       "    </tr>\n",
       "    <tr>\n",
       "      <th>4</th>\n",
       "      <td>NaN</td>\n",
       "      <td>NaN</td>\n",
       "      <td>NaN</td>\n",
       "      <td>NaN</td>\n",
       "      <td>NaN</td>\n",
       "      <td>NaN</td>\n",
       "      <td>NaN</td>\n",
       "      <td>NaN</td>\n",
       "      <td>NaN</td>\n",
       "      <td>5.1</td>\n",
       "      <td>...</td>\n",
       "      <td>NaN</td>\n",
       "      <td>NaN</td>\n",
       "      <td>NaN</td>\n",
       "      <td>NaN</td>\n",
       "      <td>NaN</td>\n",
       "      <td>NaN</td>\n",
       "      <td>NaN</td>\n",
       "      <td>NaN</td>\n",
       "      <td>NaN</td>\n",
       "      <td>NaN</td>\n",
       "    </tr>\n",
       "    <tr>\n",
       "      <th>5</th>\n",
       "      <td>NaN</td>\n",
       "      <td>NaN</td>\n",
       "      <td>NaN</td>\n",
       "      <td>NaN</td>\n",
       "      <td>NaN</td>\n",
       "      <td>NaN</td>\n",
       "      <td>NaN</td>\n",
       "      <td>NaN</td>\n",
       "      <td>NaN</td>\n",
       "      <td>NaN</td>\n",
       "      <td>...</td>\n",
       "      <td>NaN</td>\n",
       "      <td>NaN</td>\n",
       "      <td>NaN</td>\n",
       "      <td>NaN</td>\n",
       "      <td>NaN</td>\n",
       "      <td>NaN</td>\n",
       "      <td>NaN</td>\n",
       "      <td>NaN</td>\n",
       "      <td>NaN</td>\n",
       "      <td>NaN</td>\n",
       "    </tr>\n",
       "  </tbody>\n",
       "</table>\n",
       "<p>5 rows × 3262 columns</p>\n",
       "</div>"
      ],
      "text/plain": [
       "app_id   1     2     3     4     5     6     7     8     9     10    ...  \\\n",
       "user_id                                                              ...   \n",
       "1         NaN   NaN   NaN   NaN   NaN   NaN   NaN   NaN   NaN   NaN  ...   \n",
       "2         NaN   NaN   NaN   NaN   NaN   NaN   NaN   NaN   NaN   NaN  ...   \n",
       "3         NaN   NaN   NaN   NaN   NaN   NaN   NaN   NaN   NaN   NaN  ...   \n",
       "4         NaN   NaN   NaN   NaN   NaN   NaN   NaN   NaN   NaN   5.1  ...   \n",
       "5         NaN   NaN   NaN   NaN   NaN   NaN   NaN   NaN   NaN   NaN  ...   \n",
       "\n",
       "app_id   3253  3254  3255  3256  3257  3258  3259  3260  3261  3262  \n",
       "user_id                                                              \n",
       "1         NaN   NaN   NaN   NaN   NaN   NaN   NaN   NaN   NaN   NaN  \n",
       "2         NaN   NaN   NaN   NaN   NaN   NaN   NaN   NaN   NaN   NaN  \n",
       "3         NaN   NaN   NaN   NaN   NaN   NaN   NaN   NaN   NaN   NaN  \n",
       "4         NaN   NaN   NaN   NaN   NaN   NaN   NaN   NaN   NaN   NaN  \n",
       "5         NaN   NaN   NaN   NaN   NaN   NaN   NaN   NaN   NaN   NaN  \n",
       "\n",
       "[5 rows x 3262 columns]"
      ]
     },
     "execution_count": 81,
     "metadata": {},
     "output_type": "execute_result"
    }
   ],
   "source": [
    "# Create a mapping for user_id\n",
    "user_id_mapping = {old_id: new_id for new_id, old_id in enumerate(pivot_df.index, start=1)}\n",
    "pivot_df.index = pivot_df.index.map(user_id_mapping)\n",
    "\n",
    "# Create a mapping for app_id (column names)\n",
    "app_id_mapping = {old_id: new_id for new_id, old_id in enumerate(pivot_df.columns, start=1)}\n",
    "pivot_df.columns = pivot_df.columns.map(app_id_mapping)\n",
    "\n",
    "# Display the re-indexed DataFrame\n",
    "pivot_df.head()\n"
   ]
  },
  {
   "cell_type": "markdown",
   "metadata": {},
   "source": [
    "Splitting the dataset for training and testing."
   ]
  },
  {
   "cell_type": "code",
   "execution_count": 82,
   "metadata": {},
   "outputs": [
    {
     "name": "stdout",
     "output_type": "stream",
     "text": [
      "Training data shape: (80000, 3262)\n",
      "Testing data shape: (20000, 3262)\n"
     ]
    },
    {
     "data": {
      "text/plain": [
       "(app_id   1     2     3     4     5     6     7     8     9     10    ...  \\\n",
       " user_id                                                              ...   \n",
       " 1         NaN   NaN   NaN   NaN   NaN   NaN   NaN   NaN   NaN   NaN  ...   \n",
       " 2         NaN   NaN   NaN   NaN   NaN   NaN   NaN   NaN   NaN   NaN  ...   \n",
       " 3         NaN   NaN   NaN   NaN   NaN   NaN   NaN   NaN   NaN   NaN  ...   \n",
       " 4         NaN   NaN   NaN   NaN   NaN   NaN   NaN   NaN   NaN   5.1  ...   \n",
       " 5         NaN   NaN   NaN   NaN   NaN   NaN   NaN   NaN   NaN   NaN  ...   \n",
       " \n",
       " app_id   3253  3254  3255  3256  3257  3258  3259  3260  3261  3262  \n",
       " user_id                                                              \n",
       " 1         NaN   NaN   NaN   NaN   NaN   NaN   NaN   NaN   NaN   NaN  \n",
       " 2         NaN   NaN   NaN   NaN   NaN   NaN   NaN   NaN   NaN   NaN  \n",
       " 3         NaN   NaN   NaN   NaN   NaN   NaN   NaN   NaN   NaN   NaN  \n",
       " 4         NaN   NaN   NaN   NaN   NaN   NaN   NaN   NaN   NaN   NaN  \n",
       " 5         NaN   NaN   NaN   NaN   NaN   NaN   NaN   NaN   NaN   NaN  \n",
       " \n",
       " [5 rows x 3262 columns],\n",
       " app_id   1     2     3     4     5     6     7     8     9     10    ...  \\\n",
       " user_id                                                              ...   \n",
       " 80001     NaN   NaN   NaN   NaN   NaN   NaN   NaN   NaN   NaN   NaN  ...   \n",
       " 80002     NaN   NaN   NaN   NaN   NaN   NaN   NaN   NaN   NaN   NaN  ...   \n",
       " 80003     NaN   NaN   NaN   NaN   NaN   NaN   NaN   NaN   NaN   NaN  ...   \n",
       " 80004     NaN   NaN   NaN   NaN   NaN   NaN   NaN   NaN   NaN   NaN  ...   \n",
       " 80005     NaN   NaN   NaN   NaN   NaN   NaN   NaN   NaN   NaN   NaN  ...   \n",
       " \n",
       " app_id   3253  3254  3255  3256  3257  3258  3259  3260  3261  3262  \n",
       " user_id                                                              \n",
       " 80001     NaN   NaN   NaN   NaN   NaN   NaN   NaN   NaN   NaN   NaN  \n",
       " 80002     NaN   NaN   NaN   NaN   NaN   NaN   NaN   NaN   NaN   NaN  \n",
       " 80003     NaN   NaN   NaN   NaN   NaN   NaN   NaN   NaN   NaN   NaN  \n",
       " 80004     NaN   NaN   NaN   NaN   NaN   NaN   NaN   NaN   NaN   NaN  \n",
       " 80005     NaN   NaN   NaN   NaN   NaN   NaN   NaN   NaN   NaN   NaN  \n",
       " \n",
       " [5 rows x 3262 columns])"
      ]
     },
     "execution_count": 82,
     "metadata": {},
     "output_type": "execute_result"
    }
   ],
   "source": [
    "# Select the top 80,000 rows for training\n",
    "train_data = pivot_df.iloc[:80000]\n",
    "\n",
    "# Select the remaining rows for testing\n",
    "test_data = pivot_df.iloc[80000:]\n",
    "\n",
    "# Display the shapes to verify\n",
    "print(f\"Training data shape: {train_data.shape}\")\n",
    "print(f\"Testing data shape: {test_data.shape}\")\n",
    "\n",
    "# Optionally, display the first few rows of each set\n",
    "train_data.head(), test_data.head()\n"
   ]
  },
  {
   "cell_type": "code",
   "execution_count": 83,
   "metadata": {},
   "outputs": [
    {
     "data": {
      "text/plain": [
       "(3262, 80000)"
      ]
     },
     "execution_count": 83,
     "metadata": {},
     "output_type": "execute_result"
    }
   ],
   "source": [
    "R = train_data.notnull().astype(int)\n",
    "R = R.T\n",
    "R.shape"
   ]
  },
  {
   "cell_type": "code",
   "execution_count": 84,
   "metadata": {},
   "outputs": [],
   "source": [
    "train_data = train_data.fillna(0)\n",
    "train_data = train_data.T"
   ]
  },
  {
   "cell_type": "code",
   "execution_count": 85,
   "metadata": {},
   "outputs": [],
   "source": [
    "game_features = np.zeros((3262,100))\n",
    "user_features = np.zeros((80000,100))\n",
    "user_bias = np.zeros((1,80000))"
   ]
  },
  {
   "cell_type": "markdown",
   "metadata": {},
   "source": [
    "Next, define the cost function used for training. compute_cost_func and cofi_cost_func have the same functionality. compute_cost_func is more easy to read and understand while cofi_cost_func is computationally faster. I included regularization terms to prevent overfitting."
   ]
  },
  {
   "cell_type": "code",
   "execution_count": 86,
   "metadata": {},
   "outputs": [],
   "source": [
    "\n",
    "def compute_cost_func(game_features, user_features, user_bias, train_data, R, lambda_):\n",
    "   \n",
    "    nm, nu = train_data.shape\n",
    "    J = 0\n",
    "    ### START CODE HERE ###  \n",
    "    for i in range (nm):\n",
    "        for j in range(nu):\n",
    "            if(R[i][j]==1):\n",
    "                J+=np.square(np.dot(user_features[j,:],game_features[i])+user_bias[0,j]-train_data[i][j])\n",
    "    n=game_features.shape[1]\n",
    "    reg1=0\n",
    "    for j in range(nu):\n",
    "        for k in range (n):\n",
    "            reg1 += (user_features[j][k])**2\n",
    "    reg2=0\n",
    "    for i in range(nm):\n",
    "        for k in range (n):\n",
    "            reg2 += (game_features[i][k])**2\n",
    "    reg=(reg1+reg2)*lambda_\n",
    "    J+=reg\n",
    "    J=J/2\n",
    "    ### END CODE HERE ### \n",
    "\n",
    "    return J"
   ]
  },
  {
   "cell_type": "code",
   "execution_count": 87,
   "metadata": {},
   "outputs": [],
   "source": [
    "def cofi_cost_func(game_features, user_features, user_bias, train_data, R, lambda_):\n",
    "    j = (tf.linalg.matmul(game_features, tf.transpose(user_features)) + user_bias - train_data)*R\n",
    "    J = 0.5 * tf.reduce_sum(j**2) + (lambda_/2) * (tf.reduce_sum(game_features**2) + tf.reduce_sum(user_features**2))\n",
    "    return J"
   ]
  },
  {
   "cell_type": "markdown",
   "metadata": {},
   "source": [
    "Prepare for training，set 100 hidden features for both user and game. The training process will fill up those parameters for features."
   ]
  },
  {
   "cell_type": "code",
   "execution_count": 88,
   "metadata": {},
   "outputs": [],
   "source": [
    "num_games, num_users = train_data.shape\n",
    "num_features = 100\n",
    "tf.random.set_seed(1234) # for consistent results\n",
    "user_features = tf.Variable(tf.random.normal((num_users,  num_features),dtype=tf.float64),  name='user_features')\n",
    "game_features = tf.Variable(tf.random.normal((num_games, num_features),dtype=tf.float64),  name='game_features')\n",
    "user_bias = tf.Variable(tf.random.normal((1,          num_users),   dtype=tf.float64),  name='user_bias')\n",
    "# Instantiate an optimizer.\n",
    "optimizer = keras.optimizers.Adam(learning_rate=1e-1)"
   ]
  },
  {
   "cell_type": "markdown",
   "metadata": {},
   "source": [
    "Record the training loss. At this part, I made an coding error, so the loss at the first 100 iterations is lost. I have printed out myself to see that the initial loss at iteration 1 is roughly 2 * 10^9. The loss drops very quickly at the beginning, the data below is already trained for 100 iterations. But the shape of the loss function should be the same. "
   ]
  },
  {
   "cell_type": "code",
   "execution_count": 103,
   "metadata": {},
   "outputs": [],
   "source": [
    "loss = []"
   ]
  },
  {
   "cell_type": "code",
   "execution_count": 116,
   "metadata": {},
   "outputs": [],
   "source": [
    "iterations = 174\n",
    "lambda_ = 1\n",
    "for iter in range(iterations):\n",
    "    # Use TensorFlow’s GradientTape\n",
    "    # to record the operations used to compute the cost \n",
    "    with tf.GradientTape() as tape:\n",
    "\n",
    "        # Compute the cost (forward pass included in cost)\n",
    "        cost_value = cofi_cost_func(game_features, user_features, user_bias, train_data, R, lambda_)\n",
    "\n",
    "    # Use the gradient tape to automatically retrieve\n",
    "    # the gradients of the trainable variables with respect to the loss\n",
    "    grads = tape.gradient(cost_value, [game_features,user_features,user_bias] )\n",
    "\n",
    "    # Run one step of gradient descent by updating\n",
    "    # the value of the variables to minimize the loss.\n",
    "    optimizer.apply_gradients( zip(grads, [game_features,user_features,user_bias]) )\n",
    "\n",
    "    # Log periodically.\n",
    "    loss.append(cost_value)"
   ]
  },
  {
   "cell_type": "code",
   "execution_count": 127,
   "metadata": {},
   "outputs": [
    {
     "name": "stdout",
     "output_type": "stream",
     "text": [
      "tf.Tensor(2834753.176508111, shape=(), dtype=float64)\n",
      "tf.Tensor(264223.67615223024, shape=(), dtype=float64)\n"
     ]
    }
   ],
   "source": [
    "print(loss[0])\n",
    "print(loss[-1])"
   ]
  },
  {
   "cell_type": "code",
   "execution_count": 125,
   "metadata": {},
   "outputs": [
    {
     "data": {
      "image/png": "[encoded data removed]",
      "text/plain": [
       "<Figure size 1000x600 with 1 Axes>"
      ]
     },
     "metadata": {},
     "output_type": "display_data"
    }
   ],
   "source": [
    "import matplotlib.pyplot as plt\n",
    "\n",
    "\n",
    "# Create the plot\n",
    "plt.figure(figsize=(10, 6))  # Optional: Set the figure size\n",
    "plt.plot(loss, marker='o', markersize=3, linestyle='-', linewidth=1)\n",
    "\n",
    "# Add titles and labels\n",
    "plt.title('Traing Loss', fontsize=16)\n",
    "plt.xlabel('Index', fontsize=14)\n",
    "plt.ylabel('Value', fontsize=14)\n",
    "\n",
    "# Optional: Add a grid for better readability\n",
    "plt.grid(True)\n",
    "\n",
    "# Show the plot\n",
    "plt.show()\n"
   ]
  },
  {
   "cell_type": "markdown",
   "metadata": {},
   "source": [
    "Compute the predictions for each user by our algorithm."
   ]
  },
  {
   "cell_type": "code",
   "execution_count": 118,
   "metadata": {},
   "outputs": [],
   "source": [
    "predictions = np.matmul(game_features.numpy(), np.transpose(user_features.numpy())) + user_bias.numpy()\n",
    "predictions_clipped = np.clip(predictions, 0.0, 10.0)\n",
    "predictions_df = pd.DataFrame(\n",
    "    predictions_clipped,\n",
    "    index=[f\"app_{i}\" for i in range(predictions_clipped.shape[0])],  # User IDs as row labels\n",
    "    columns=[f\"user_{j}\" for j in range(predictions_clipped.shape[1])]  # Feature names as column labels)\n",
    ")\n"
   ]
  },
  {
   "cell_type": "code",
   "execution_count": 133,
   "metadata": {},
   "outputs": [],
   "source": [
    "def compare_ratings(user_id):\n",
    "    \"\"\"\n",
    "    Compare actual ratings from train_data and predicted ratings from predictions_df for a given user column index.\n",
    "    \n",
    "    Args:\n",
    "        user_id (int): The column index of the user in train_data and predictions_df.\n",
    "\n",
    "    \n",
    "    Returns:\n",
    "        [actual_ratings, predicted_ratings]\n",
    "    \"\"\"\n",
    "    # Check if the user_id is a valid column index\n",
    "    if user_id >= train_data.shape[1]:\n",
    "        print(f\"User column index {user_id} is out of range.\")\n",
    "        return\n",
    "\n",
    "    # Get the column name for the given user index\n",
    "    user_column = train_data.columns[user_id]\n",
    "    \n",
    "    # Get actual ratings for the user from train_data\n",
    "    actual_ratings = train_data.iloc[:, user_id]\n",
    "    \n",
    "    # Get predicted ratings for the user from predictions_df\n",
    "    predicted_ratings = predictions_df.iloc[:, user_id]\n",
    "    \n",
    "    # Find indices of items the user has rated (non-zero entries)\n",
    "    rated_items = actual_ratings[actual_ratings != 0].index\n",
    "    \n",
    "    # Print out comparisons\n",
    "    print(f\"Comparisons for User {user_id}\")\n",
    "    for item in rated_items:\n",
    "        actual = actual_ratings[item]\n",
    "        predicted = predicted_ratings[item]\n",
    "        print(f\"  Item {item}: Actual Rating= {actual}, Predicted Rating= {round(predicted, 1)}\")\n",
    "    return actual_ratings, predicted_ratings\n"
   ]
  },
  {
   "cell_type": "code",
   "execution_count": 139,
   "metadata": {},
   "outputs": [
    {
     "name": "stdout",
     "output_type": "stream",
     "text": [
      "Comparisons for User 69604\n",
      "  Item 62: Actual Rating= 5.2, Predicted Rating= 3.8\n",
      "  Item 64: Actual Rating= 6.0, Predicted Rating= 5.0\n",
      "  Item 113: Actual Rating= 6.0, Predicted Rating= 3.3\n",
      "  Item 125: Actual Rating= 5.1, Predicted Rating= 6.2\n",
      "  Item 144: Actual Rating= 4.8, Predicted Rating= 5.3\n",
      "  Item 164: Actual Rating= 5.2, Predicted Rating= 4.1\n",
      "  Item 209: Actual Rating= 5.4, Predicted Rating= 4.9\n",
      "  Item 221: Actual Rating= 5.1, Predicted Rating= 4.9\n",
      "  Item 273: Actual Rating= 7.6, Predicted Rating= 5.5\n",
      "  Item 283: Actual Rating= 5.2, Predicted Rating= 5.9\n",
      "  Item 289: Actual Rating= 5.1, Predicted Rating= 4.8\n",
      "  Item 373: Actual Rating= 5.2, Predicted Rating= 4.4\n",
      "  Item 387: Actual Rating= 5.2, Predicted Rating= 5.4\n",
      "  Item 419: Actual Rating= 6.7, Predicted Rating= 5.2\n",
      "  Item 559: Actual Rating= 5.0, Predicted Rating= 5.2\n",
      "  Item 612: Actual Rating= 5.1, Predicted Rating= 4.6\n",
      "  Item 687: Actual Rating= 7.1, Predicted Rating= 4.4\n",
      "  Item 710: Actual Rating= 6.2, Predicted Rating= 5.1\n",
      "  Item 712: Actual Rating= 4.9, Predicted Rating= 4.2\n",
      "  Item 780: Actual Rating= 5.2, Predicted Rating= 6.5\n",
      "  Item 795: Actual Rating= 5.2, Predicted Rating= 5.2\n",
      "  Item 823: Actual Rating= 9.8, Predicted Rating= 5.2\n",
      "  Item 827: Actual Rating= 5.2, Predicted Rating= 7.0\n",
      "  Item 895: Actual Rating= 4.8, Predicted Rating= 8.2\n",
      "  Item 982: Actual Rating= 6.1, Predicted Rating= 4.4\n",
      "  Item 984: Actual Rating= 9.3, Predicted Rating= 4.1\n",
      "  Item 1088: Actual Rating= 10.0, Predicted Rating= 5.3\n",
      "  Item 1125: Actual Rating= 5.8, Predicted Rating= 4.1\n",
      "  Item 1141: Actual Rating= 5.1, Predicted Rating= 4.7\n",
      "  Item 1142: Actual Rating= 4.8, Predicted Rating= 4.1\n",
      "  Item 1179: Actual Rating= 5.9, Predicted Rating= 4.5\n",
      "  Item 1184: Actual Rating= 6.1, Predicted Rating= 4.1\n",
      "  Item 1186: Actual Rating= 5.5, Predicted Rating= 5.2\n",
      "  Item 1226: Actual Rating= 5.1, Predicted Rating= 3.8\n",
      "  Item 1248: Actual Rating= 5.3, Predicted Rating= 6.8\n",
      "  Item 1260: Actual Rating= 5.7, Predicted Rating= 4.5\n",
      "  Item 1266: Actual Rating= 5.4, Predicted Rating= 5.0\n",
      "  Item 1279: Actual Rating= 5.1, Predicted Rating= 4.6\n",
      "  Item 1309: Actual Rating= 6.5, Predicted Rating= 6.4\n",
      "  Item 1330: Actual Rating= 5.8, Predicted Rating= 4.2\n",
      "  Item 1371: Actual Rating= 5.9, Predicted Rating= 5.4\n",
      "  Item 1390: Actual Rating= 6.5, Predicted Rating= 4.8\n",
      "  Item 1470: Actual Rating= 5.1, Predicted Rating= 4.3\n",
      "  Item 1506: Actual Rating= 5.5, Predicted Rating= 4.9\n",
      "  Item 1512: Actual Rating= 4.3, Predicted Rating= 6.0\n",
      "  Item 1604: Actual Rating= 5.5, Predicted Rating= 5.8\n",
      "  Item 1663: Actual Rating= 6.8, Predicted Rating= 4.7\n",
      "  Item 1685: Actual Rating= 5.1, Predicted Rating= 4.6\n",
      "  Item 1688: Actual Rating= 5.7, Predicted Rating= 4.4\n",
      "  Item 1774: Actual Rating= 10.0, Predicted Rating= 6.8\n",
      "  Item 1780: Actual Rating= 5.6, Predicted Rating= 3.2\n",
      "  Item 1788: Actual Rating= 5.4, Predicted Rating= 4.2\n",
      "  Item 1801: Actual Rating= 5.0, Predicted Rating= 5.6\n",
      "  Item 1887: Actual Rating= 5.4, Predicted Rating= 5.0\n",
      "  Item 1889: Actual Rating= 4.6, Predicted Rating= 4.1\n",
      "  Item 1893: Actual Rating= 6.3, Predicted Rating= 6.9\n",
      "  Item 1968: Actual Rating= 5.0, Predicted Rating= 4.4\n",
      "  Item 1975: Actual Rating= 5.1, Predicted Rating= 3.4\n",
      "  Item 1995: Actual Rating= 5.2, Predicted Rating= 3.5\n",
      "  Item 2013: Actual Rating= 5.2, Predicted Rating= 4.9\n",
      "  Item 2060: Actual Rating= 5.3, Predicted Rating= 4.7\n",
      "  Item 2082: Actual Rating= 5.6, Predicted Rating= 4.6\n",
      "  Item 2094: Actual Rating= 5.1, Predicted Rating= 4.9\n",
      "  Item 2097: Actual Rating= 5.1, Predicted Rating= 4.3\n",
      "  Item 2101: Actual Rating= 10.0, Predicted Rating= 4.8\n",
      "  Item 2134: Actual Rating= 5.1, Predicted Rating= 4.4\n",
      "  Item 2144: Actual Rating= 5.2, Predicted Rating= 4.2\n",
      "  Item 2170: Actual Rating= 5.1, Predicted Rating= 5.0\n",
      "  Item 2171: Actual Rating= 5.1, Predicted Rating= 3.9\n",
      "  Item 2244: Actual Rating= 6.1, Predicted Rating= 4.5\n",
      "  Item 2371: Actual Rating= 5.1, Predicted Rating= 5.5\n",
      "  Item 2457: Actual Rating= 5.2, Predicted Rating= 4.4\n",
      "  Item 2546: Actual Rating= 5.0, Predicted Rating= 5.1\n",
      "  Item 2547: Actual Rating= 5.1, Predicted Rating= 4.8\n",
      "  Item 2624: Actual Rating= 10.0, Predicted Rating= 4.3\n",
      "  Item 2643: Actual Rating= 5.1, Predicted Rating= 5.6\n",
      "  Item 2679: Actual Rating= 5.2, Predicted Rating= 4.5\n",
      "  Item 2746: Actual Rating= 5.0, Predicted Rating= 4.7\n",
      "  Item 2781: Actual Rating= 5.5, Predicted Rating= 5.7\n",
      "  Item 2808: Actual Rating= 5.0, Predicted Rating= 4.0\n",
      "  Item 3058: Actual Rating= 5.0, Predicted Rating= 3.9\n"
     ]
    },
    {
     "name": "stderr",
     "output_type": "stream",
     "text": [
      "/var/folders/0x/8p42fct94xg0v77sv5bj7j8r0000gn/T/ipykernel_838/1663727430.py:33: FutureWarning: Series.__getitem__ treating keys as positions is deprecated. In a future version, integer keys will always be treated as labels (consistent with DataFrame behavior). To access a value by position, use `ser.iloc[pos]`\n",
      "  predicted = predicted_ratings[item]\n",
      "/var/folders/0x/8p42fct94xg0v77sv5bj7j8r0000gn/T/ipykernel_838/15264256.py:8: FutureWarning: Series.__getitem__ treating keys as positions is deprecated. In a future version, integer keys will always be treated as labels (consistent with DataFrame behavior). To access a value by position, use `ser.iloc[pos]`\n",
      "  p_ratings = predicted_ratings[rated_items]\n"
     ]
    },
    {
     "data": {
      "image/png": "[encoded data removed]",
      "text/plain": [
       "<Figure size 1200x600 with 1 Axes>"
      ]
     },
     "metadata": {},
     "output_type": "display_data"
    }
   ],
   "source": [
    "import random\n",
    "import matplotlib.pyplot as plt\n",
    "import numpy as np\n",
    "# Sample data (replace these with your actual data)\n",
    "actual_ratings, predicted_ratings = compare_ratings(random.randint(1, 80000))\n",
    "rated_items = actual_ratings[actual_ratings != 0].index\n",
    "a_ratings = actual_ratings[rated_items]\n",
    "p_ratings = predicted_ratings[rated_items]\n",
    "game_indices = range(1, len(p_ratings) + 1)\n",
    "\n",
    "# Plot full data with transparency\n",
    "plt.figure(figsize=(12, 6))\n",
    "plt.plot(game_indices, a_ratings, label='Actual Ratings', color='blue', alpha=0.7, marker='o', linestyle='-')\n",
    "plt.plot(game_indices, p_ratings, label='Predicted Ratings', color='red', alpha=0.7, marker='x', linestyle='--')\n",
    "\n",
    "# Customization\n",
    "plt.xlabel('Game Index', fontsize=12)\n",
    "plt.ylabel('Rating', fontsize=12)\n",
    "plt.title('Predicted vs Actual Ratings (Full Data)', fontsize=16)\n",
    "plt.legend(loc='best')\n",
    "plt.grid(True, linestyle='--', alpha=0.6)\n",
    "plt.show()\n",
    "\n",
    "\n"
   ]
  },
  {
   "cell_type": "code",
   "execution_count": 131,
   "metadata": {},
   "outputs": [],
   "source": [
    "def recommend_top_unrated_items(user_id, top_n=10):\n",
    "    \"\"\"\n",
    "    Recommend the top N items with the highest predicted ratings for a given user\n",
    "    that have not been actually rated by the user (i.e., value in train_df is 0).\n",
    "\n",
    "    Parameters:\n",
    "    - user_id (str): The ID of the user (e.g., 'user_0').\n",
    "    - top_n (int): The number of top items to recommend (default is 10).\n",
    "\n",
    "    Returns:\n",
    "    - pd.Series: A series containing the top N items and their predicted ratings for the given user.\n",
    "    \"\"\"\n",
    "    if user_id not in predictions_df.columns or user_id not in train_df.columns:\n",
    "        raise ValueError(f\"User ID {user_id} not found in predictions or train DataFrame.\")\n",
    "    \n",
    "    # Get the predicted ratings and actual ratings for the given user\n",
    "    predicted_ratings = predictions_df.iloc[:, user_id]\n",
    "    actual_ratings = train_df[:, user_id]\n",
    "    \n",
    "    # Filter items that are not rated by the user (actual rating == 0)\n",
    "    unrated_items = actual_ratings[actual_ratings == 0].index\n",
    "    predicted_unrated = predicted_ratings.loc[unrated_items]\n",
    "    \n",
    "    # Sort the predictions for unrated items in descending order and get the top N\n",
    "    top_items = predicted_unrated.sort_values(ascending=False).head(top_n)\n",
    "    \n",
    "    return top_items\n",
    "\n",
    "\n",
    "\n",
    "    \n"
   ]
  },
  {
   "cell_type": "code",
   "execution_count": 132,
   "metadata": {},
   "outputs": [
    {
     "name": "stdout",
     "output_type": "stream",
     "text": [
      "\n",
      "Top 10 recommendations for User 7982:\n",
      "app_1311    10.0\n",
      "app_2557    10.0\n",
      "app_512     10.0\n",
      "app_1129    10.0\n",
      "app_2905    10.0\n",
      "app_2154    10.0\n",
      "app_315     10.0\n",
      "app_1243    10.0\n",
      "app_1654    10.0\n",
      "app_655     10.0\n",
      "Name: user_7982, dtype: float64\n"
     ]
    },
    {
     "data": {
      "text/plain": [
       "app_1311    10.0\n",
       "app_2557    10.0\n",
       "app_512     10.0\n",
       "app_1129    10.0\n",
       "app_2905    10.0\n",
       "app_2154    10.0\n",
       "app_315     10.0\n",
       "app_1243    10.0\n",
       "app_1654    10.0\n",
       "app_655     10.0\n",
       "Name: user_7982, dtype: float64"
      ]
     },
     "execution_count": 132,
     "metadata": {},
     "output_type": "execute_result"
    }
   ],
   "source": [
    "import random\n",
    "recommend_top_items(random.randint(1,80000))"
   ]
  }
 ],
 "metadata": {
  "kernelspec": {
   "display_name": "myenv_3.10",
   "language": "python",
   "name": "python3"
  },
  "language_info": {
   "codemirror_mode": {
    "name": "ipython",
    "version": 3
   },
   "file_extension": ".py",
   "mimetype": "text/x-python",
   "name": "python",
   "nbconvert_exporter": "python",
   "pygments_lexer": "ipython3",
   "version": "3.10.15"
  }
 },
 "nbformat": 4,
 "nbformat_minor": 2
}
